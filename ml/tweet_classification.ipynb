{
 "cells": [
  {
   "cell_type": "markdown",
   "metadata": {},
   "source": [
    "# Tweet Analysis"
   ]
  },
  {
   "cell_type": "code",
   "execution_count": 62,
   "metadata": {},
   "outputs": [],
   "source": [
    "import pandas as pd\n",
    "import numpy as np\n",
    "import xgboost as xgb\n",
    "import sqlite3\n",
    "import matplotlib\n",
    "import seaborn as sns\n",
    "from sklearn.model_selection import train_test_split\n",
    "from sklearn.preprocessing import StandardScaler\n",
    "from tqdm import tqdm\n",
    "from nltk import word_tokenize\n",
    "from nltk.corpus import stopwords\n",
    "from keras.models import Sequential\n",
    "from keras.layers.recurrent import LSTM, GRU\n",
    "from keras.layers.core import Dense, Activation, Dropout\n",
    "from keras.layers.embeddings import Embedding\n",
    "from keras.layers.normalization import BatchNormalization\n",
    "from keras.utils import np_utils\n",
    "stop_words = stopwords.words('english')\n",
    "%matplotlib inline"
   ]
  },
  {
   "cell_type": "code",
   "execution_count": 63,
   "metadata": {},
   "outputs": [],
   "source": [
    "def multiclass_logloss(actual, predicted, eps=1e-15):\n",
    "    \"\"\"Multi class version of Logarithmic Loss metric.\n",
    "    :param actual: Array containing the actual target classes\n",
    "    :param predicted: Matrix with class predictions, one probability per class\n",
    "    \"\"\"\n",
    "    # Convert 'actual' to a binary array if it's not already:\n",
    "    if len(actual.shape) == 1:\n",
    "        actual2 = np.zeros((actual.shape[0], predicted.shape[1]))\n",
    "        for i, val in enumerate(actual):\n",
    "            actual2[i, val] = 1\n",
    "        actual = actual2\n",
    "\n",
    "    clip = np.clip(predicted, eps, 1 - eps)\n",
    "    rows = actual.shape[0]\n",
    "    vsota = np.sum(actual * np.log(clip))\n",
    "    return -1.0 / rows * vsota"
   ]
  },
  {
   "cell_type": "code",
   "execution_count": 64,
   "metadata": {},
   "outputs": [],
   "source": [
    "# conn = sqlite3.connect(\"../twitter_python/en_lupus.sqlite\") # open the SQLite connection \n",
    "# tweets = pd.read_sql_query(\"SELECT * FROM hashtags;\", conn) # get all the tweets\n",
    "# tweets['created_at'] = pd.to_datetime(tweets['created_at']) # convert strings to timestamps  \n",
    "# orig_tweets = tweets[tweets['retweeted_status'] == 0] # only original tweets, i.e. no retweets\n",
    "# conn.close() # close the SQLite connection"
   ]
  },
  {
   "cell_type": "markdown",
   "metadata": {},
   "source": [
    "### Get the CSVs"
   ]
  },
  {
   "cell_type": "code",
   "execution_count": 71,
   "metadata": {},
   "outputs": [
    {
     "data": {
      "text/html": [
       "<div>\n",
       "<style>\n",
       "    .dataframe thead tr:only-child th {\n",
       "        text-align: right;\n",
       "    }\n",
       "\n",
       "    .dataframe thead th {\n",
       "        text-align: left;\n",
       "    }\n",
       "\n",
       "    .dataframe tbody tr th {\n",
       "        vertical-align: top;\n",
       "    }\n",
       "</style>\n",
       "<table border=\"1\" class=\"dataframe\">\n",
       "  <thead>\n",
       "    <tr style=\"text-align: right;\">\n",
       "      <th></th>\n",
       "      <th>username</th>\n",
       "      <th>time</th>\n",
       "      <th>content</th>\n",
       "      <th>NA</th>\n",
       "      <th>P</th>\n",
       "      <th>F</th>\n",
       "      <th>M</th>\n",
       "      <th>A</th>\n",
       "      <th>U</th>\n",
       "    </tr>\n",
       "  </thead>\n",
       "  <tbody>\n",
       "    <tr>\n",
       "      <th>0</th>\n",
       "      <td>taeiae</td>\n",
       "      <td>00:56.0</td>\n",
       "      <td>i finished the first lupus tales fic and now i...</td>\n",
       "      <td>NaN</td>\n",
       "      <td>NaN</td>\n",
       "      <td>NaN</td>\n",
       "      <td>NaN</td>\n",
       "      <td>NaN</td>\n",
       "      <td>NaN</td>\n",
       "    </tr>\n",
       "    <tr>\n",
       "      <th>1</th>\n",
       "      <td>mistykj05</td>\n",
       "      <td>59:36.0</td>\n",
       "      <td>Co-ed floor same as my son. I didn't get to dr...</td>\n",
       "      <td>NaN</td>\n",
       "      <td>x</td>\n",
       "      <td>NaN</td>\n",
       "      <td>NaN</td>\n",
       "      <td>NaN</td>\n",
       "      <td>NaN</td>\n",
       "    </tr>\n",
       "    <tr>\n",
       "      <th>2</th>\n",
       "      <td>@DamonkWayans @keeshash</td>\n",
       "      <td>arp @dantebro</td>\n",
       "      <td>NaN</td>\n",
       "      <td>NaN</td>\n",
       "      <td>NaN</td>\n",
       "      <td>NaN</td>\n",
       "      <td>NaN</td>\n",
       "      <td>NaN</td>\n",
       "      <td>NaN</td>\n",
       "    </tr>\n",
       "    <tr>\n",
       "      <th>3</th>\n",
       "      <td>linmp1031</td>\n",
       "      <td>56:58.0</td>\n",
       "      <td>@ajstarr10 @therealzanetta Who makes a pkgd sa...</td>\n",
       "      <td>NaN</td>\n",
       "      <td>x</td>\n",
       "      <td>x</td>\n",
       "      <td>NaN</td>\n",
       "      <td>NaN</td>\n",
       "      <td>NaN</td>\n",
       "    </tr>\n",
       "    <tr>\n",
       "      <th>4</th>\n",
       "      <td>_CrazyWonderful</td>\n",
       "      <td>55:04.0</td>\n",
       "      <td>I‚Äôm determined to connect with other #lupusw...</td>\n",
       "      <td>NaN</td>\n",
       "      <td>x</td>\n",
       "      <td>NaN</td>\n",
       "      <td>NaN</td>\n",
       "      <td>NaN</td>\n",
       "      <td>NaN</td>\n",
       "    </tr>\n",
       "  </tbody>\n",
       "</table>\n",
       "</div>"
      ],
      "text/plain": [
       "                  username           time  \\\n",
       "0                   taeiae        00:56.0   \n",
       "1                mistykj05        59:36.0   \n",
       "2  @DamonkWayans @keeshash  arp @dantebro   \n",
       "3                linmp1031        56:58.0   \n",
       "4          _CrazyWonderful        55:04.0   \n",
       "\n",
       "                                             content   NA    P    F    M    A  \\\n",
       "0  i finished the first lupus tales fic and now i...  NaN  NaN  NaN  NaN  NaN   \n",
       "1  Co-ed floor same as my son. I didn't get to dr...  NaN    x  NaN  NaN  NaN   \n",
       "2                                                NaN  NaN  NaN  NaN  NaN  NaN   \n",
       "3  @ajstarr10 @therealzanetta Who makes a pkgd sa...  NaN    x    x  NaN  NaN   \n",
       "4  I‚Äôm determined to connect with other #lupusw...  NaN    x  NaN  NaN  NaN   \n",
       "\n",
       "     U  \n",
       "0  NaN  \n",
       "1  NaN  \n",
       "2  NaN  \n",
       "3  NaN  \n",
       "4  NaN  "
      ]
     },
     "execution_count": 71,
     "metadata": {},
     "output_type": "execute_result"
    }
   ],
   "source": [
    "df = pd.read_csv('./train/lupus_classification.csv')\n",
    "df.columns = ['username', 'time', 'content', 'NA', 'P', 'F', 'M', 'A', 'U']\n",
    "# df['index'] = range(1, len(df) + 1)\n",
    "# df = df.set_index('index')\n",
    "df.head()"
   ]
  },
  {
   "cell_type": "code",
   "execution_count": 73,
   "metadata": {},
   "outputs": [
    {
     "data": {
      "text/html": [
       "<div>\n",
       "<style>\n",
       "    .dataframe thead tr:only-child th {\n",
       "        text-align: right;\n",
       "    }\n",
       "\n",
       "    .dataframe thead th {\n",
       "        text-align: left;\n",
       "    }\n",
       "\n",
       "    .dataframe tbody tr th {\n",
       "        vertical-align: top;\n",
       "    }\n",
       "</style>\n",
       "<table border=\"1\" class=\"dataframe\">\n",
       "  <thead>\n",
       "    <tr style=\"text-align: right;\">\n",
       "      <th></th>\n",
       "      <th>username</th>\n",
       "      <th>time</th>\n",
       "      <th>content</th>\n",
       "      <th>NA</th>\n",
       "      <th>P</th>\n",
       "      <th>F</th>\n",
       "      <th>M</th>\n",
       "      <th>A</th>\n",
       "    </tr>\n",
       "  </thead>\n",
       "  <tbody>\n",
       "    <tr>\n",
       "      <th>0</th>\n",
       "      <td>biotweeps</td>\n",
       "      <td>53:28.0</td>\n",
       "      <td>Atlantic Wolffish (Anarhichas lupus) is also s...</td>\n",
       "      <td>x</td>\n",
       "      <td>NaN</td>\n",
       "      <td>NaN</td>\n",
       "      <td>NaN</td>\n",
       "      <td>NaN</td>\n",
       "    </tr>\n",
       "    <tr>\n",
       "      <th>1</th>\n",
       "      <td>ohellvis</td>\n",
       "      <td>52:12.0</td>\n",
       "      <td>@JOHN__JUAN @RapUp bitch, no one! but I think ...</td>\n",
       "      <td>NaN</td>\n",
       "      <td>x</td>\n",
       "      <td>NaN</td>\n",
       "      <td>NaN</td>\n",
       "      <td>NaN</td>\n",
       "    </tr>\n",
       "    <tr>\n",
       "      <th>2</th>\n",
       "      <td>LupusCorner</td>\n",
       "      <td>52:08.0</td>\n",
       "      <td>2 goals of topical treatments for cutaneous &amp;a...</td>\n",
       "      <td>NaN</td>\n",
       "      <td>NaN</td>\n",
       "      <td>NaN</td>\n",
       "      <td>x</td>\n",
       "      <td>NaN</td>\n",
       "    </tr>\n",
       "    <tr>\n",
       "      <th>3</th>\n",
       "      <td>DaIaiGoat</td>\n",
       "      <td>51:23.0</td>\n",
       "      <td>@JaguarPaw90 @tellmecarey It's not heartless. ...</td>\n",
       "      <td>NaN</td>\n",
       "      <td>x</td>\n",
       "      <td>NaN</td>\n",
       "      <td>NaN</td>\n",
       "      <td>NaN</td>\n",
       "    </tr>\n",
       "    <tr>\n",
       "      <th>4</th>\n",
       "      <td>JaguarPaw90</td>\n",
       "      <td>48:54.0</td>\n",
       "      <td>@tellmecarey @DaIaiGoat She almost died from l...</td>\n",
       "      <td>NaN</td>\n",
       "      <td>x</td>\n",
       "      <td>NaN</td>\n",
       "      <td>NaN</td>\n",
       "      <td>NaN</td>\n",
       "    </tr>\n",
       "  </tbody>\n",
       "</table>\n",
       "</div>"
      ],
      "text/plain": [
       "      username     time                                            content  \\\n",
       "0    biotweeps  53:28.0  Atlantic Wolffish (Anarhichas lupus) is also s...   \n",
       "1     ohellvis  52:12.0  @JOHN__JUAN @RapUp bitch, no one! but I think ...   \n",
       "2  LupusCorner  52:08.0  2 goals of topical treatments for cutaneous &a...   \n",
       "3    DaIaiGoat  51:23.0  @JaguarPaw90 @tellmecarey It's not heartless. ...   \n",
       "4  JaguarPaw90  48:54.0  @tellmecarey @DaIaiGoat She almost died from l...   \n",
       "\n",
       "    NA    P    F    M    A  \n",
       "0    x  NaN  NaN  NaN  NaN  \n",
       "1  NaN    x  NaN  NaN  NaN  \n",
       "2  NaN  NaN  NaN    x  NaN  \n",
       "3  NaN    x  NaN  NaN  NaN  \n",
       "4  NaN    x  NaN  NaN  NaN  "
      ]
     },
     "execution_count": 73,
     "metadata": {},
     "output_type": "execute_result"
    }
   ],
   "source": [
    "df2 = pd.read_csv('./train/november400.csv')\n",
    "df2.columns = ['tweet_id', 'username', 'time', 'content', 'NA', 'P', 'F', 'M', 'A']\n",
    "df2 = df2[['username', 'time', 'content', 'NA', 'P', 'F', 'M', 'A']]\n",
    "df2.head()"
   ]
  },
  {
   "cell_type": "code",
   "execution_count": 74,
   "metadata": {},
   "outputs": [],
   "source": [
    "# append df2 to df\n",
    "df = df.append(df2)"
   ]
  },
  {
   "cell_type": "markdown",
   "metadata": {},
   "source": [
    "### Clean the data "
   ]
  },
  {
   "cell_type": "code",
   "execution_count": 75,
   "metadata": {},
   "outputs": [
    {
     "name": "stdout",
     "output_type": "stream",
     "text": [
      "Tweet count: 661\n"
     ]
    }
   ],
   "source": [
    "df = df.dropna(subset=['content'])\n",
    "df = df.dropna(subset=['NA', 'P', 'F', 'M', 'A'], how='all') \n",
    "print(\"Tweet count:\", len(df))"
   ]
  },
  {
   "cell_type": "code",
   "execution_count": 76,
   "metadata": {},
   "outputs": [],
   "source": [
    "def get_category_number(row): \n",
    "    if not pd.isnull(row['NA']): \n",
    "        return 0\n",
    "    if not pd.isnull(row['P']): \n",
    "        return 1\n",
    "    if not pd.isnull(row['F']): \n",
    "        return 2\n",
    "    if not pd.isnull(row['M']): \n",
    "        return 3\n",
    "    if not pd.isnull(row['A']): \n",
    "        return 4\n",
    "    return 0"
   ]
  },
  {
   "cell_type": "code",
   "execution_count": 77,
   "metadata": {},
   "outputs": [
    {
     "data": {
      "text/plain": [
       "<matplotlib.axes._subplots.AxesSubplot at 0x119570240>"
      ]
     },
     "execution_count": 77,
     "metadata": {},
     "output_type": "execute_result"
    },
    {
     "data": {
      "image/png": "[encoded data removed]",
      "text/plain": [
       "<matplotlib.figure.Figure at 0x119567898>"
      ]
     },
     "metadata": {},
     "output_type": "display_data"
    }
   ],
   "source": [
    "df['category'] = df.apply(lambda r: get_category_number(r), axis = 1)\n",
    "df = df[df['category'] >= 0]\n",
    "sns.distplot(df['category'], kde=False)"
   ]
  },
  {
   "cell_type": "code",
   "execution_count": 107,
   "metadata": {},
   "outputs": [
    {
     "data": {
      "text/html": [
       "<div>\n",
       "<style>\n",
       "    .dataframe thead tr:only-child th {\n",
       "        text-align: right;\n",
       "    }\n",
       "\n",
       "    .dataframe thead th {\n",
       "        text-align: left;\n",
       "    }\n",
       "\n",
       "    .dataframe tbody tr th {\n",
       "        vertical-align: top;\n",
       "    }\n",
       "</style>\n",
       "<table border=\"1\" class=\"dataframe\">\n",
       "  <thead>\n",
       "    <tr style=\"text-align: right;\">\n",
       "      <th></th>\n",
       "      <th>content</th>\n",
       "      <th>category</th>\n",
       "    </tr>\n",
       "  </thead>\n",
       "  <tbody>\n",
       "    <tr>\n",
       "      <th>1</th>\n",
       "      <td>Co-ed floor same as my son. I didn't get to dr...</td>\n",
       "      <td>1</td>\n",
       "    </tr>\n",
       "    <tr>\n",
       "      <th>3</th>\n",
       "      <td>@ajstarr10 @therealzanetta Who makes a pkgd sa...</td>\n",
       "      <td>1</td>\n",
       "    </tr>\n",
       "    <tr>\n",
       "      <th>4</th>\n",
       "      <td>I‚Äôm determined to connect with other #lupusw...</td>\n",
       "      <td>1</td>\n",
       "    </tr>\n",
       "    <tr>\n",
       "      <th>5</th>\n",
       "      <td>New Blog: My open letter to @selenagomez about...</td>\n",
       "      <td>1</td>\n",
       "    </tr>\n",
       "    <tr>\n",
       "      <th>7</th>\n",
       "      <td>@LADAOrg so happy I found this page!!  #iamnot...</td>\n",
       "      <td>1</td>\n",
       "    </tr>\n",
       "  </tbody>\n",
       "</table>\n",
       "</div>"
      ],
      "text/plain": [
       "                                             content  category\n",
       "1  Co-ed floor same as my son. I didn't get to dr...         1\n",
       "3  @ajstarr10 @therealzanetta Who makes a pkgd sa...         1\n",
       "4  I‚Äôm determined to connect with other #lupusw...         1\n",
       "5  New Blog: My open letter to @selenagomez about...         1\n",
       "7  @LADAOrg so happy I found this page!!  #iamnot...         1"
      ]
     },
     "execution_count": 107,
     "metadata": {},
     "output_type": "execute_result"
    }
   ],
   "source": [
    "df = df[['content', 'category']]\n",
    "df.head()"
   ]
  },
  {
   "cell_type": "code",
   "execution_count": 80,
   "metadata": {},
   "outputs": [],
   "source": [
    "y = df['category'].values\n",
    "xtrain, xvalid, ytrain, yvalid = train_test_split(df['content'].values, y, \n",
    "                                                  stratify=y, \n",
    "                                                  random_state=42, \n",
    "                                                  test_size=0.1, shuffle=True)"
   ]
  },
  {
   "cell_type": "markdown",
   "metadata": {},
   "source": [
    "# GloVe"
   ]
  },
  {
   "cell_type": "code",
   "execution_count": 81,
   "metadata": {},
   "outputs": [
    {
     "name": "stdout",
     "output_type": "stream",
     "text": [
      "Exceptional case: . . .\n",
      "100000\n",
      "Exceptional case: at name@domain.com\n",
      "Exceptional case: . . . . .\n",
      "200000\n",
      "Exceptional case: to name@domain.com\n",
      "Exceptional case: . .\n",
      "Exceptional case: . . . .\n",
      "Exceptional case: email name@domain.com\n",
      "300000\n",
      "Exceptional case: or name@domain.com\n",
      "400000\n",
      "500000\n",
      "Exceptional case: contact name@domain.com\n",
      "600000\n",
      "700000\n",
      "Exceptional case: Email name@domain.com\n",
      "800000\n",
      "900000\n",
      "Exceptional case: on name@domain.com\n",
      "1000000\n",
      "1100000\n",
      "Exceptional case: At Killerseats.com\n",
      "Exceptional case: by name@domain.com\n",
      "1200000\n",
      "1300000\n",
      "Exceptional case: in mylot.com\n",
      "1400000\n",
      "Exceptional case: emailing name@domain.com\n",
      "1500000\n",
      "Exceptional case: Contact name@domain.com\n",
      "1600000\n",
      "1700000\n",
      "1800000\n",
      "Exceptional case: at name@domain.com\n",
      "1900000\n",
      "Exceptional case: • name@domain.com\n",
      "2000000\n",
      "Exceptional case: at Amazon.com\n",
      "2100000\n",
      "Exceptional case: is name@domain.com\n"
     ]
    }
   ],
   "source": [
    "def isfloat(value):\n",
    "    try:\n",
    "        float(value)\n",
    "        return True\n",
    "    except ValueError:\n",
    "        return False\n",
    "\n",
    "embeddings_index = {}\n",
    "f = open('../../glove/glove.840B.300d.txt')\n",
    "count = 0\n",
    "\n",
    "# 2 196 017\n",
    "\n",
    "for line in f:\n",
    "    count = count + 1\n",
    "    if (count % 100000 == 0): \n",
    "        print(count)\n",
    "    values = line.split()\n",
    "    word = values[0]\n",
    "    i = 1\n",
    "    while not isfloat(values[i]):\n",
    "        word = word + ' ' + values[i]\n",
    "        i = i + 1\n",
    "    if i > 1:\n",
    "        print('Exceptional case: {0}'.format(word))\n",
    "    coefs = np.asarray(values[i:], dtype='float32')\n",
    "    embeddings_index[word] = coefs\n",
    "f.close()"
   ]
  },
  {
   "cell_type": "code",
   "execution_count": 82,
   "metadata": {},
   "outputs": [],
   "source": [
    "# this function creates a normalized vector for the whole sentence\n",
    "def sent2vec(s):\n",
    "    words = str(s).lower() ## .decode('utf-8')\n",
    "    words = word_tokenize(words)\n",
    "    words = [w for w in words if not w in stop_words]\n",
    "    words = [w for w in words if w.isalpha()]\n",
    "    M = []\n",
    "    for w in words:\n",
    "        try:\n",
    "            M.append(embeddings_index[w])\n",
    "        except:\n",
    "            continue\n",
    "    M = np.array(M)\n",
    "    v = M.sum(axis=0)\n",
    "    if type(v) != np.ndarray:\n",
    "        return np.zeros(300)\n",
    "    return v / np.sqrt((v ** 2).sum())"
   ]
  },
  {
   "cell_type": "code",
   "execution_count": 83,
   "metadata": {},
   "outputs": [],
   "source": [
    "# create sentence vectors using the above function for training and validation set\n",
    "xtrain_glove = [sent2vec(x) for x in xtrain]\n",
    "xvalid_glove = [sent2vec(x) for x in xvalid]"
   ]
  },
  {
   "cell_type": "code",
   "execution_count": 84,
   "metadata": {},
   "outputs": [],
   "source": [
    "xtrain_glove = np.array(xtrain_glove)\n",
    "xvalid_glove = np.array(xvalid_glove)"
   ]
  },
  {
   "cell_type": "code",
   "execution_count": 85,
   "metadata": {},
   "outputs": [],
   "source": [
    "# Fitting a simple xgboost on glove features\n",
    "clf = xgb.XGBClassifier(nthread=10, silent=False)\n",
    "clf.fit(xtrain_glove, ytrain)\n",
    "predictions = clf.predict_proba(xvalid_glove)"
   ]
  },
  {
   "cell_type": "code",
   "execution_count": 86,
   "metadata": {},
   "outputs": [
    {
     "name": "stdout",
     "output_type": "stream",
     "text": [
      "xgb logloss: 0.739 \n"
     ]
    }
   ],
   "source": [
    "print (\"xgb logloss: %0.3f \" % multiclass_logloss(yvalid, predictions))"
   ]
  },
  {
   "cell_type": "markdown",
   "metadata": {},
   "source": [
    "## Deep Learning"
   ]
  },
  {
   "cell_type": "code",
   "execution_count": 100,
   "metadata": {},
   "outputs": [],
   "source": [
    "scl = StandardScaler()\n",
    "xtrain_glove_scl = scl.fit_transform(xtrain_glove)\n",
    "xvalid_glove_scl = scl.transform(xvalid_glove)"
   ]
  },
  {
   "cell_type": "code",
   "execution_count": 101,
   "metadata": {},
   "outputs": [],
   "source": [
    "ytrain_enc = np_utils.to_categorical(ytrain)\n",
    "yvalid_enc = np_utils.to_categorical(yvalid)"
   ]
  },
  {
   "cell_type": "code",
   "execution_count": 102,
   "metadata": {},
   "outputs": [],
   "source": [
    "model = Sequential()\n",
    "\n",
    "model.add(Dense(300, input_dim=300, activation='relu'))\n",
    "model.add(Dropout(0.2))\n",
    "model.add(BatchNormalization())\n",
    "\n",
    "model.add(Dense(300, activation='relu'))\n",
    "model.add(Dropout(0.3))\n",
    "model.add(BatchNormalization())\n",
    "\n",
    "model.add(Dense(5))\n",
    "model.add(Activation('softmax'))\n",
    "\n",
    "# compile the model\n",
    "model.compile(loss='categorical_crossentropy', optimizer='adam')"
   ]
  },
  {
   "cell_type": "code",
   "execution_count": 103,
   "metadata": {},
   "outputs": [
    {
     "name": "stdout",
     "output_type": "stream",
     "text": [
      "Train on 594 samples, validate on 67 samples\n",
      "Epoch 1/5\n",
      "594/594 [==============================] - 1s 2ms/step - loss: 1.4618 - val_loss: 1.2256\n",
      "Epoch 2/5\n",
      "594/594 [==============================] - 0s 178us/step - loss: 0.8645 - val_loss: 1.2942\n",
      "Epoch 3/5\n",
      "594/594 [==============================] - 0s 186us/step - loss: 0.5917 - val_loss: 1.3012\n",
      "Epoch 4/5\n",
      "594/594 [==============================] - 0s 178us/step - loss: 0.4265 - val_loss: 1.2868\n",
      "Epoch 5/5\n",
      "594/594 [==============================] - 0s 169us/step - loss: 0.3366 - val_loss: 1.2436\n"
     ]
    },
    {
     "data": {
      "text/plain": [
       "<keras.callbacks.History at 0x121bb0550>"
      ]
     },
     "execution_count": 103,
     "metadata": {},
     "output_type": "execute_result"
    }
   ],
   "source": [
    "model.fit(xtrain_glove_scl, y=ytrain_enc, batch_size=64, \n",
    "          epochs=5, verbose=1, \n",
    "          validation_data=(xvalid_glove_scl, yvalid_enc))"
   ]
  },
  {
   "cell_type": "code",
   "execution_count": 104,
   "metadata": {},
   "outputs": [],
   "source": [
    "predictions = model.predict(x=xvalid_glove_scl)"
   ]
  },
  {
   "cell_type": "code",
   "execution_count": 106,
   "metadata": {},
   "outputs": [
    {
     "name": "stdout",
     "output_type": "stream",
     "text": [
      "ANN logloss: 1.244 \n"
     ]
    }
   ],
   "source": [
    "print (\"ANN logloss: %0.3f \" % multiclass_logloss(yvalid, predictions))"
   ]
  }
 ],
 "metadata": {
  "kernelspec": {
   "display_name": "Python 3",
   "language": "python",
   "name": "python3"
  },
  "language_info": {
   "codemirror_mode": {
    "name": "ipython",
    "version": 3
   },
   "file_extension": ".py",
   "mimetype": "text/x-python",
   "name": "python",
   "nbconvert_exporter": "python",
   "pygments_lexer": "ipython3",
   "version": "3.6.5"
  }
 },
 "nbformat": 4,
 "nbformat_minor": 2
}
