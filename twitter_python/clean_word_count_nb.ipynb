{
 "cells": [
  {
   "cell_type": "markdown",
   "metadata": {},
   "source": [
    "# Word Counts, Bigrams, and Hashtags"
   ]
  },
  {
   "cell_type": "code",
   "execution_count": 1,
   "metadata": {},
   "outputs": [],
   "source": [
    "import operator \n",
    "from collections import Counter\n",
    "from nltk.corpus import stopwords\n",
    "import string\n",
    "import re\n",
    "from nltk import bigrams \n",
    "from collections import defaultdict\n",
    "import vincent "
   ]
  },
  {
   "cell_type": "code",
   "execution_count": 2,
   "metadata": {},
   "outputs": [],
   "source": [
    "punctuation = list(string.punctuation) # stop words  \n",
    "# rt and via specific to this project, add them\n",
    "stop = stopwords.words('english') + punctuation + ['RT', 'via'] \n",
    "# for co-occurrences \n",
    "com = defaultdict(lambda : defaultdict(int))"
   ]
  },
  {
   "cell_type": "code",
   "execution_count": 3,
   "metadata": {},
   "outputs": [],
   "source": [
    "fname = '../out/tweet_content_orig.txt'"
   ]
  },
  {
   "cell_type": "code",
   "execution_count": 4,
   "metadata": {},
   "outputs": [],
   "source": [
    "emoticons_str = r\"\"\"\n",
    "    (?:\n",
    "        [:=;] # Eyes\n",
    "        [oO\\-]? # Nose (optional)\n",
    "        [D\\)\\]\\(\\]/\\\\OpP] # Mouth\n",
    "    )\"\"\"\n",
    " \n",
    "regex_str = [\n",
    "    emoticons_str,\n",
    "    r'<[^>]+>', # HTML tags\n",
    "    r'(?:@[\\w_]+)', # @-mentions\n",
    "    r\"(?:\\#+[\\w_]+[\\w\\'_\\-]*[\\w_]+)\", # hash-tags\n",
    "    r'http[s]?://(?:[a-z]|[0-9]|[$-_@.&amp;+]|[!*\\(\\),]|(?:%[0-9a-f][0-9a-f]))+', # URLs\n",
    "    r'(?:(?:\\d+,?)+(?:\\.?\\d+)?)', # numbers\n",
    "    r\"(?:[a-z][a-z'\\-_]+[a-z])\", # words with - and '\n",
    "    r'(?:[\\w_]+)', # other words\n",
    "    r'(?:\\S)' # anything else\n",
    "]"
   ]
  },
  {
   "cell_type": "code",
   "execution_count": 5,
   "metadata": {},
   "outputs": [],
   "source": [
    "tokens_re = re.compile(r'('+'|'.join(regex_str)+')', re.VERBOSE | re.IGNORECASE)\n",
    "emoticon_re = re.compile(r'^'+emoticons_str+'$', re.VERBOSE | re.IGNORECASE)\n",
    "search_word = 'Lupus'"
   ]
  },
  {
   "cell_type": "code",
   "execution_count": 6,
   "metadata": {},
   "outputs": [],
   "source": [
    "def tokenize(s):\n",
    "    return tokens_re.findall(s)"
   ]
  },
  {
   "cell_type": "code",
   "execution_count": 7,
   "metadata": {},
   "outputs": [],
   "source": [
    "def preprocess(s, lowercase=False):\n",
    "    tokens = tokenize(s)\n",
    "    if lowercase:\n",
    "        tokens = [token if emoticon_re.search(token) else token.lower() for token in tokens]\n",
    "    return tokens"
   ]
  },
  {
   "cell_type": "code",
   "execution_count": 8,
   "metadata": {},
   "outputs": [],
   "source": [
    "with open(fname, 'r') as f:\n",
    "    count_all = Counter()\n",
    "    count_hash = Counter()\n",
    "    count_terms_only = Counter()\n",
    "    terms_only_bigram = Counter()\n",
    "    count_search = Counter()\n",
    "    for line in f:\n",
    "        # for json: \n",
    "        # tweet = json.loads(line)\n",
    "\n",
    "        # for plain text:\n",
    "\n",
    "        # Create a list with all the terms\n",
    "        terms_all = [term for term in preprocess(line)]\n",
    "        # Update the counter\n",
    "        count_all.update(terms_all)\n",
    "\n",
    "        # clean data for a single tweet \n",
    "        terms_single = set(terms_all)\n",
    "        # Count hashtags only\n",
    "        terms_hash = [term for term in preprocess(line) \n",
    "                      if term.startswith('#')]\n",
    "        # Count terms only (no hashtags, no mentions)\n",
    "        terms_only = [term for term in preprocess(line) \n",
    "                      if term not in stop and\n",
    "                      not term.startswith(('#', '@'))] \n",
    "                      # mind the ((double brackets))\n",
    "                      # startswith() takes a tuple (not a list) if \n",
    "                      # we pass a list of inputs\n",
    "        terms_only_bigram.update(bigrams(terms_only))\n",
    "        count_terms_only.update(terms_only)\n",
    "        count_hash.update(terms_hash)\n",
    "\n",
    "        # for all co-occurrences\n",
    "        for i in range(len(terms_only)-1):            \n",
    "            for j in range(i+1, len(terms_only)):\n",
    "                w1, w2 = sorted([terms_only[i], terms_only[j]])                \n",
    "                if w1 != w2:\n",
    "                    com[w1][w2] += 1\n",
    "\n",
    "        # for search word co-occurrences\n",
    "        if search_word in terms_only:\n",
    "            count_search.update(terms_only)"
   ]
  },
  {
   "cell_type": "code",
   "execution_count": 9,
   "metadata": {},
   "outputs": [
    {
     "name": "stdout",
     "output_type": "stream",
     "text": [
      "Co-occurrence for Lupus:\n",
      "[('Lupus', 45515), ('I', 17155), ('’', 7627), ('amp', 4387), ('The', 2845), ('Selena', 2415), ('💜', 1991), ('like', 1963), ('disease', 1898), ('My', 1883), ('know', 1811), ('lupus', 1696), ('It', 1657), ('Gomez', 1637), ('Research', 1609), (\"I'm\", 1569), ('get', 1567), ('…', 1522), ('Awareness', 1431), ('2', 1369)]\n",
      "\n"
     ]
    }
   ],
   "source": [
    "print(\"Co-occurrence for %s:\" % search_word)\n",
    "print(count_search.most_common(20))\n",
    "print()"
   ]
  },
  {
   "cell_type": "markdown",
   "metadata": {},
   "source": [
    "## Co-occurences"
   ]
  },
  {
   "cell_type": "code",
   "execution_count": 10,
   "metadata": {},
   "outputs": [
    {
     "name": "stdout",
     "output_type": "stream",
     "text": [
      "[(('I', '’'), 30242), (('I', 'lupus'), 24070), (('I', 'Lupus'), 18332), (('lupus', '’'), 14680), (('I', 'amp'), 9933)]\n"
     ]
    }
   ],
   "source": [
    "com_max = []\n",
    "# For each term, look for the most common co-occurrent terms\n",
    "for t1 in com:\n",
    "    t1_max_terms = sorted(com[t1].items(), key=operator.itemgetter(1), reverse=True)[:5]\n",
    "    for t2, t2_count in t1_max_terms:\n",
    "        com_max.append(((t1, t2), t2_count))\n",
    "# Get the most frequent co-occurrences\n",
    "terms_max = sorted(com_max, key=operator.itemgetter(1), reverse=True)\n",
    "print(terms_max[:5])"
   ]
  },
  {
   "cell_type": "markdown",
   "metadata": {},
   "source": [
    "## Most Frequent Terms (not clean)\n",
    "\n",
    "(Includes punctuation, etc.)"
   ]
  },
  {
   "cell_type": "code",
   "execution_count": 11,
   "metadata": {},
   "outputs": [
    {
     "name": "stdout",
     "output_type": "stream",
     "text": [
      "[('.', 171840), (',', 80526), ('to', 58935), ('I', 56467), ('the', 53308)]\n"
     ]
    }
   ],
   "source": [
    "#not cleaned, includes punctuation etc.\n",
    "print(count_all.most_common(5))"
   ]
  },
  {
   "cell_type": "markdown",
   "metadata": {},
   "source": [
    "## Most Frequent Terms (clean)"
   ]
  },
  {
   "cell_type": "code",
   "execution_count": 12,
   "metadata": {},
   "outputs": [
    {
     "name": "stdout",
     "output_type": "stream",
     "text": [
      "[('I', 56467), ('lupus', 47252), ('Lupus', 45515), ('’', 28171), ('amp', 13871), ('like', 8155), ('The', 6962), ('know', 6449), ('get', 6129), ('💜', 5943), (\"I'm\", 5370), ('disease', 5365), ('people', 5364), ('My', 5204), ('Selena', 4887), ('It', 4781), ('one', 4605), ('help', 4408), ('pain', 4383), ('You', 4349), ('️', 3872), ('LUPUS', 3751), ('…', 3732), ('2', 3693), ('time', 3629)]\n"
     ]
    }
   ],
   "source": [
    "print(count_terms_only.most_common(25))"
   ]
  },
  {
   "cell_type": "markdown",
   "metadata": {},
   "source": [
    "## Bigram (clean)"
   ]
  },
  {
   "cell_type": "code",
   "execution_count": 13,
   "metadata": {},
   "outputs": [
    {
     "name": "stdout",
     "output_type": "stream",
     "text": [
      "(('I', '’'), 7239)\n",
      "(('Selena', 'Gomez'), 2321)\n",
      "(('💜', '💜'), 1830)\n",
      "(('It', '’'), 1748)\n",
      "(('I', 'know'), 1615)\n",
      "(('lupus', 'erythematosus'), 1555)\n",
      "(('lupus', 'I'), 1549)\n",
      "(('I', 'lupus'), 1527)\n",
      "(('Lupus', 'Research'), 1377)\n",
      "(('😂', '😂'), 1279)\n",
      "(('I', 'think'), 1198)\n",
      "(('Lupus', 'Awareness'), 1181)\n",
      "(('❤', '️'), 1176)\n",
      "(('systemic', 'lupus'), 1143)\n",
      "(('I', \"don't\"), 1117)\n",
      "(('SHARE', '4'), 1064)\n",
      "(('I', 'Lupus'), 1019)\n",
      "(('Lupus', 'I'), 996)\n",
      "(('Research', 'Alliance'), 939)\n",
      "(('lupus', '’'), 898)\n",
      "(('’', 'lupus'), 890)\n",
      "(('I', 'love'), 887)\n",
      "(('4', 'https://t.co/TClwcK0izG'), 874)\n",
      "(('Lupus', 'Foundation'), 849)\n",
      "(('autoimmune', 'disease'), 790)\n"
     ]
    }
   ],
   "source": [
    "freq_bigrams = terms_only_bigram.most_common(25)\n",
    "for t in freq_bigrams: \n",
    "    print(t)"
   ]
  },
  {
   "cell_type": "markdown",
   "metadata": {},
   "source": [
    "## Most Frequent Hashtags"
   ]
  },
  {
   "cell_type": "code",
   "execution_count": 14,
   "metadata": {},
   "outputs": [
    {
     "name": "stdout",
     "output_type": "stream",
     "text": [
      "('#lupus', 12653)\n",
      "('#Lupus', 12106)\n",
      "('#LupusChat', 3615)\n",
      "('#lupusawareness', 2431)\n",
      "('#spoonie', 1209)\n",
      "('#CelebritySaturday', 1116)\n",
      "('#chronicpain', 1056)\n",
      "('#chronicillness', 1039)\n",
      "('#autoimmune', 1010)\n",
      "('#LupusAwareness', 939)\n",
      "('#lupussurvivors', 938)\n",
      "('#LupusAwarenessMonth', 881)\n",
      "('#LUPUS', 844)\n",
      "('#Fibromyalgia', 802)\n",
      "('#SLE', 727)\n",
      "('#fibromyalgia', 651)\n",
      "('#ChronicPain', 523)\n",
      "('#RA', 514)\n",
      "('#MS', 472)\n",
      "('#LupusWarrior', 469)\n",
      "('#lupuswarrior', 466)\n",
      "('#health', 453)\n",
      "('#LupusInColor', 442)\n",
      "('#arthritis', 429)\n",
      "('#CRPS', 404)\n",
      "('#autoimmunedisease', 388)\n",
      "('#', 385)\n",
      "('#cancer', 384)\n",
      "('#KidneyDisease', 384)\n",
      "('#migraine', 362)\n",
      "('#Fibro', 350)\n",
      "('#LupusSurvivors', 336)\n",
      "('#lupuschat', 333)\n",
      "('#fibro', 306)\n",
      "('#ACR17', 273)\n"
     ]
    }
   ],
   "source": [
    "most_common = count_hash.most_common(35)\n",
    "for t in most_common: \n",
    "    print(t)"
   ]
  }
 ],
 "metadata": {
  "kernelspec": {
   "display_name": "Python 3",
   "language": "python",
   "name": "python3"
  },
  "language_info": {
   "codemirror_mode": {
    "name": "ipython",
    "version": 3
   },
   "file_extension": ".py",
   "mimetype": "text/x-python",
   "name": "python",
   "nbconvert_exporter": "python",
   "pygments_lexer": "ipython3",
   "version": "3.6.5"
  }
 },
 "nbformat": 4,
 "nbformat_minor": 2
}
